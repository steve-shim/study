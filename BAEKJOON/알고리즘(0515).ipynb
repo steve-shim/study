{
 "cells": [
  {
   "cell_type": "code",
   "execution_count": 9,
   "id": "a793de89",
   "metadata": {
    "scrolled": false
   },
   "outputs": [
    {
     "name": "stdout",
     "output_type": "stream",
     "text": [
      "3 \n",
      "1 0\n",
      "5\n",
      "imp [5]\n",
      "idx ['target']\n",
      "1\n",
      "4 2\n",
      "1 2 3 4\n",
      "imp [1, 2, 3, 4]\n",
      "idx [0, 1, 'target', 3]\n",
      "imp [2, 3, 4, 1]\n",
      "idx [1, 'target', 3, 0]\n",
      "imp [3, 4, 1, 2]\n",
      "idx ['target', 3, 0, 1]\n",
      "imp [4, 1, 2, 3]\n",
      "idx [3, 0, 1, 'target']\n",
      "imp [2, 3, 1]\n",
      "idx [1, 'target', 0]\n",
      "imp [3, 1, 2]\n",
      "idx ['target', 0, 1]\n",
      "2\n",
      "6 0\n",
      "1 1 9 1 1 1 \n",
      "imp [1, 1, 9, 1, 1, 1]\n",
      "idx ['target', 1, 2, 3, 4, 5]\n",
      "imp [1, 9, 1, 1, 1, 1]\n",
      "idx [1, 2, 3, 4, 5, 'target']\n",
      "imp [9, 1, 1, 1, 1, 1]\n",
      "idx [2, 3, 4, 5, 'target', 1]\n",
      "5\n"
     ]
    }
   ],
   "source": [
    "test_cases = int(input())\n",
    "\n",
    "for _ in range(test_cases):\n",
    "    n,m = list(map(int, input().split( )))\n",
    "    imp = list(map(int, input().split( )))\n",
    "    idx = list(range(len(imp)))\n",
    "    idx[m] = 'target'\n",
    "    print(\"imp\",imp)\n",
    "    print(\"idx\",idx)\n",
    "    \n",
    "    order = 0\n",
    "    while True:\n",
    "        # 첫번째 if: imp의 첫번째 값 = 최댓값?\n",
    "        if imp[0]==max(imp):\n",
    "            order += 1\n",
    "                        \n",
    "            # 두번째 if: idx의 첫 번째 값 = \"target\"?\n",
    "            if idx[0]=='target':\n",
    "                print(order)\n",
    "                break\n",
    "            else:\n",
    "                imp.pop(0)\n",
    "                idx.pop(0)\n",
    "\n",
    "        else:\n",
    "            imp.append(imp.pop(0))\n",
    "            idx.append(idx.pop(0)) \n",
    "            print(\"imp\", imp)\n",
    "            print(\"idx\", idx)\n",
    "    \n",
    "    "
   ]
  },
  {
   "cell_type": "code",
   "execution_count": 15,
   "id": "145aa93a",
   "metadata": {},
   "outputs": [
    {
     "data": {
      "text/plain": [
       "[]"
      ]
     },
     "execution_count": 15,
     "metadata": {},
     "output_type": "execute_result"
    }
   ],
   "source": [
    "sys.stdin.readline().split()"
   ]
  }
 ],
 "metadata": {
  "kernelspec": {
   "display_name": "Python 3",
   "language": "python",
   "name": "python3"
  },
  "language_info": {
   "codemirror_mode": {
    "name": "ipython",
    "version": 3
   },
   "file_extension": ".py",
   "mimetype": "text/x-python",
   "name": "python",
   "nbconvert_exporter": "python",
   "pygments_lexer": "ipython3",
   "version": "3.8.8"
  }
 },
 "nbformat": 4,
 "nbformat_minor": 5
}
