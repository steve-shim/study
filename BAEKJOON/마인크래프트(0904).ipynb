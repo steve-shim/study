{
 "cells": [
  {
   "cell_type": "markdown",
   "id": "9380019d",
   "metadata": {},
   "source": [
    "https://www.acmicpc.net/problem/18111\n",
    "\n",
    "N(세로) x M(가로)\n",
    "땅 -> 엔벤토리 ( 2초 )\n",
    "인벤토리 -> 땅 ( 1초 )"
   ]
  },
  {
   "cell_type": "code",
   "execution_count": null,
   "id": "9551f548",
   "metadata": {},
   "outputs": [],
   "source": [
    "n,m = map(int ,input().split())\n",
    "print(n,m)"
   ]
  },
  {
   "cell_type": "code",
   "execution_count": null,
   "id": "aea26f74",
   "metadata": {},
   "outputs": [],
   "source": [
    "b = [[1,2,3],[4,5,6]]\n",
    "b[1][1]"
   ]
  },
  {
   "cell_type": "code",
   "execution_count": null,
   "id": "e75a80b0",
   "metadata": {},
   "outputs": [],
   "source": [
    "a = list(map(int, input().split()))\n",
    "print(a)"
   ]
  },
  {
   "cell_type": "code",
   "execution_count": null,
   "id": "9dde7498",
   "metadata": {},
   "outputs": [],
   "source": [
    "n,m = map(int, input().split())\n",
    "inventory = 99\n",
    "land = []\n",
    "for row in range(n):\n",
    "    land.append( list(map(int,input().split())) )\n",
    "        \n",
    "land"
   ]
  },
  {
   "cell_type": "code",
   "execution_count": null,
   "id": "39de1e57",
   "metadata": {},
   "outputs": [],
   "source": [
    "import numpy as np\n",
    "land_np = np.array(land)\n",
    "print(\"[1]\",land_np == land_np.min())\n",
    "print(\"[2]\",np.sum(land_np == land_np.min()))\n",
    "print(\"[3]\",np.sum(land_np == land_np.min(), axis=0))\n",
    "print(\"[4]\",np.sum(land_np == land_np.min(), axis=1))\n",
    "print(\"[5]\",sum(land_np == land_np.max()))\n"
   ]
  },
  {
   "cell_type": "code",
   "execution_count": null,
   "id": "8cd6939a",
   "metadata": {},
   "outputs": [],
   "source": [
    "import numpy as np\n",
    "land_np = np.array(land)\n",
    "print(land_np.max())\n",
    "print(land_np.argmax())\n",
    "print(land_np.argmin())\n",
    "print(land_np.argmax(axis=0))\n",
    "print(land_np.argmax(axis=1))\n",
    "land_np"
   ]
  },
  {
   "cell_type": "markdown",
   "id": "c4f75837",
   "metadata": {},
   "source": [
    "땅을 고르기 위한 후보가 되는 높이는 [min, max] \\\n",
    "블록추가 -> inven-=1, time+=1 \\\n",
    "블록제거 -> inven+=1, time+=2"
   ]
  },
  {
   "cell_type": "code",
   "execution_count": null,
   "id": "f71dd26d",
   "metadata": {},
   "outputs": [],
   "source": [
    "test_arr = np.array([[0, 0, 0, 0],\n",
    "                     [4, 0, 0, 0],\n",
    "                     [0, 6, 0, 1]])\n",
    "test_arr.min()"
   ]
  },
  {
   "cell_type": "code",
   "execution_count": null,
   "id": "02bb5b87",
   "metadata": {},
   "outputs": [],
   "source": [
    "[1,2,-4,6,7].filter(lambda x: x>0)"
   ]
  },
  {
   "cell_type": "code",
   "execution_count": null,
   "id": "bc3e1a71",
   "metadata": {
    "scrolled": true
   },
   "outputs": [],
   "source": [
    "test_arr"
   ]
  },
  {
   "cell_type": "code",
   "execution_count": null,
   "id": "d82d838f",
   "metadata": {},
   "outputs": [],
   "source": [
    "n,m,inven = map(int, input().split())\n",
    "inven = 99\n",
    "land = []\n",
    "for row in range(n):\n",
    "    land.append( list(map(int,input().split())) )\n",
    "        "
   ]
  },
  {
   "cell_type": "code",
   "execution_count": null,
   "id": "33664d9c",
   "metadata": {},
   "outputs": [],
   "source": [
    "n,m,inven = map(int, input().split())\n",
    "land = []\n",
    "for row in range(n):\n",
    "    land.append( list(map(int,input().split())) )\n",
    "test_arr = np.array(land)\n",
    "possible = []\n",
    "\n",
    "for height in range(test_arr.min(), test_arr.max()+1):\n",
    "    \n",
    "    from_inven = 0\n",
    "    to_inven = 0\n",
    "    for arr in test_arr - height:\n",
    "        from_inven += int(-np.sum([i for i in arr if i < 0]))\n",
    "        to_inven += int(np.sum([i for i in arr if i > 0]))\n",
    "    isvalid = inven - from_inven + to_inven >= 0\n",
    "    time = from_inven*1 + to_inven*2\n",
    "    if isvalid:\n",
    "        possible.append({'height': height, 'time': time})\n",
    "#     print(\"from_inven\",from_inven * 1) # * 1\n",
    "#     print(\"to_inven\",to_inven * 2)   # * 2\n",
    "    wanted = sorted(possible, key=lambda x:x['time'], reverse=False)[0]\n",
    "print(wanted['time'], wanted['height'])"
   ]
  },
  {
   "cell_type": "code",
   "execution_count": null,
   "id": "bfbe1429",
   "metadata": {},
   "outputs": [],
   "source": [
    "import numpy as np\n",
    "n,m,inven = map(int, input().split())\n",
    "land = []\n",
    "for row in range(n):\n",
    "    land.append( list(map(int,input().split())) )\n",
    "test_arr = np.array(land)\n",
    "possible = []\n",
    "\n",
    "for height in range(test_arr.min(), test_arr.max()+1):\n",
    "    \n",
    "    from_inven = 0\n",
    "    to_inven = 0\n",
    "    for arr in test_arr - height:\n",
    "        from_inven += int(-np.sum([i for i in arr if i < 0]))\n",
    "        to_inven += int(np.sum([i for i in arr if i > 0]))\n",
    "    isvalid = inven - from_inven + to_inven >= 0\n",
    "    time = from_inven*1 + to_inven*2\n",
    "    if isvalid:\n",
    "        possible.append({'height': height, 'time': time})\n",
    "#     print(\"from_inven\",from_inven * 1) # * 1\n",
    "#     print(\"to_inven\",to_inven * 2)   # * 2\n",
    "    wanted = sorted(possible, key=lambda x:x['time'], reverse=False)[0]\n",
    "print(wanted['time'], wanted['height'])"
   ]
  },
  {
   "cell_type": "code",
   "execution_count": 4,
   "id": "c260b7b1",
   "metadata": {},
   "outputs": [
    {
     "name": "stdout",
     "output_type": "stream",
     "text": [
      "3 4 0\n",
      "64 64 64 64\n",
      "64 64 64 64\n",
      "64 64 64 63\n"
     ]
    }
   ],
   "source": [
    "n,m,inven = map(int, input().split())\n",
    "land = []\n",
    "min_val = None\n",
    "max_val = None\n",
    "for row in range(n):\n",
    "    input_list = list(map(int,input().split()))\n",
    "    land.append( input_list )\n",
    "    if min_val is None or max_val is None:\n",
    "        min_val = min(input_list)    \n",
    "        max_val = max(input_list)\n",
    "    else:\n",
    "        min_val = min(min_val, min(input_list))\n",
    "        max_val = max(max_val, max(input_list))\n",
    "# test_arr = np.array(land)\n",
    "possible = []"
   ]
  },
  {
   "cell_type": "code",
   "execution_count": 7,
   "id": "466e8d7e",
   "metadata": {},
   "outputs": [
    {
     "data": {
      "text/plain": [
       "[[64, 64, 64, 64], [64, 64, 64, 64], [64, 64, 64, 63]]"
      ]
     },
     "execution_count": 7,
     "metadata": {},
     "output_type": "execute_result"
    }
   ],
   "source": [
    "land"
   ]
  },
  {
   "cell_type": "markdown",
   "id": "bbbe2eaf",
   "metadata": {},
   "source": [
    "3등"
   ]
  },
  {
   "cell_type": "code",
   "execution_count": 22,
   "id": "c90aae79",
   "metadata": {},
   "outputs": [
    {
     "name": "stdout",
     "output_type": "stream",
     "text": [
      "3 4 0\n",
      "64 64 64 64\n",
      "64 64 64 64\n",
      "64 64 64 63\n",
      "height 63\n",
      "inven 0\n",
      "from_inven 0\n",
      "to_inven 11\n",
      "isvalid True\n",
      "height 64\n",
      "inven 0\n",
      "from_inven 1\n",
      "to_inven 0\n",
      "isvalid False\n",
      "wanted {'height': 63, 'time': 22}\n",
      "22 63\n"
     ]
    }
   ],
   "source": [
    "n,m,inven = map(int, input().split())\n",
    "land = []\n",
    "min_val = None\n",
    "max_val = None\n",
    "for row in range(n):\n",
    "    input_list = list(map(int,input().split()))\n",
    "    land.append( input_list )\n",
    "    if min_val is None or max_val is None:\n",
    "        min_val = min(input_list)    \n",
    "        max_val = max(input_list)\n",
    "    else:\n",
    "        min_val = min(min_val, min(input_list))\n",
    "        max_val = max(max_val, max(input_list))\n",
    "\n",
    "possible = []\n",
    "for height in range(min_val, max_val+1):\n",
    "    from_inven = 0\n",
    "    to_inven = 0\n",
    "    for arr in land:\n",
    "        from_inven += int(-sum([i-height for i in arr if i - height < 0]))\n",
    "        to_inven += int(sum([i-height for i in arr if i-height > 0]))\n",
    "    isvalid = inven - from_inven + to_inven >= 0\n",
    "    time = from_inven*1 + to_inven*2\n",
    "    if isvalid:\n",
    "        possible.append({'height': height, 'time': time})\n",
    "wanted = sorted(possible, key=lambda x:x['time'], reverse=False)[0]\n",
    "print(wanted['time'], wanted['height'])"
   ]
  },
  {
   "cell_type": "markdown",
   "id": "50a71a68",
   "metadata": {},
   "source": [
    "2등"
   ]
  },
  {
   "cell_type": "code",
   "execution_count": 23,
   "id": "22d96566",
   "metadata": {},
   "outputs": [
    {
     "name": "stdout",
     "output_type": "stream",
     "text": [
      "3 4 0\n",
      "64 64 64 64\n",
      "64 64 64 64\n",
      "64 64 64 63\n",
      "22 63\n"
     ]
    }
   ],
   "source": [
    "N, M, B = map(int, input().split())\n",
    "ground = [list(map(int, input().split())) for _ in range(N)]\n",
    "min_time = 9999999999\n",
    "height = 0\n",
    "\n",
    "for i in range(257):\n",
    "    bottom = 0\n",
    "    top = 0\n",
    "    # 0층부터 256층까지 모든 땅을 i층으로 고르는 경우의 수를 다 구함\n",
    "    for j in range(N):\n",
    "        for k in range(M):\n",
    "            if ground[j][k] >= i:\n",
    "                top += ground[j][k]-i\n",
    "            else:\n",
    "                bottom += i-ground[j][k]\n",
    "\n",
    "    # 채워야하는 블록이 가진 블록보다 많을 때\n",
    "    # 즉, 땅을 평평하게 할 수 없을때 해당 건은 건너뛴다\n",
    "    if bottom > top + B:\n",
    "        continue\n",
    "\n",
    "    # 채우기는 +1, 쌓기는 +2\n",
    "    time = bottom + (top*2)\n",
    "    if time <= min_time:\n",
    "        min_time = time\n",
    "        height = i\n",
    "\n",
    "print(min_time, height)"
   ]
  },
  {
   "cell_type": "markdown",
   "id": "7de436e9",
   "metadata": {},
   "source": [
    "1등"
   ]
  },
  {
   "cell_type": "code",
   "execution_count": 25,
   "id": "4cb6ae1c",
   "metadata": {},
   "outputs": [
    {
     "name": "stdout",
     "output_type": "stream",
     "text": [
      "3 4 0\n",
      "64 64 64 64\n",
      "64 64 64 64\n",
      "64 64 64 63\n",
      "22 63\n"
     ]
    }
   ],
   "source": [
    "import sys\n",
    "N, M, B = map(int, input().split(\" \"))\n",
    "\n",
    "block = []\n",
    "for i in range(N):\n",
    "    temp = list(map(int, input().split(\" \")))\n",
    "\n",
    "    block.append(temp)\n",
    "\n",
    "answer = sys.maxsize\n",
    "floor = 0\n",
    "\n",
    "for t in range(257):\n",
    "    max_t, min_t = 0, 0\n",
    "\n",
    "    for i in range(N):\n",
    "        for j in range(M):\n",
    "\n",
    "            if(block[i][j] >= t):\n",
    "                max_t += block[i][j] - t\n",
    "\n",
    "            else:\n",
    "                min_t += t - block[i][j]\n",
    "\n",
    "    if max_t+B >= min_t:\n",
    "        if min_t + (max_t * 2) <= answer:\n",
    "            answer = min_t+(max_t * 2)\n",
    "            floor = t\n",
    "\n",
    "print(answer, floor)"
   ]
  }
 ],
 "metadata": {
  "kernelspec": {
   "display_name": "Python 3",
   "language": "python",
   "name": "python3"
  }
 },
 "nbformat": 4,
 "nbformat_minor": 5
}
