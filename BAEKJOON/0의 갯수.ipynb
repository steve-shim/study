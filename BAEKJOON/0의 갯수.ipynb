{
 "cells": [
  {
   "cell_type": "markdown",
   "id": "86adca76",
   "metadata": {},
   "source": [
    "https://www.acmicpc.net/problem/11170"
   ]
  },
  {
   "cell_type": "code",
   "execution_count": 67,
   "id": "084bf963",
   "metadata": {},
   "outputs": [
    {
     "name": "stdout",
     "output_type": "stream",
     "text": [
      "3\n",
      "0 10\n",
      "[(0, 10)]\n",
      "33 1005\n",
      "[(0, 10), (33, 1005)]\n",
      "1 4\n",
      "[(0, 10), (33, 1005), (1, 4)]\n"
     ]
    }
   ],
   "source": [
    "test_num = map(int, input())\n",
    "test_info = []\n",
    "for num in range(*test_num):\n",
    "    test_info.append(tuple(map(int, input().split())))\n",
    "    print(test_info)"
   ]
  },
  {
   "cell_type": "code",
   "execution_count": 74,
   "id": "fce5ccc7",
   "metadata": {},
   "outputs": [
    {
     "name": "stdout",
     "output_type": "stream",
     "text": [
      "3\n",
      "0 10\n",
      "33 1005\n",
      "1 4\n",
      "2\n",
      "199\n",
      "0\n"
     ]
    }
   ],
   "source": [
    "def zero_cnt(test):\n",
    "    start, end = test\n",
    "    result = 0\n",
    "    for num in range(start, end+1):\n",
    "        result += len([i for i in str(num) if i == '0'])\n",
    "    return result\n",
    "\n",
    "test_num = map(int, input())\n",
    "test_info = []\n",
    "for num in range(*test_num):\n",
    "    test_info.append(tuple(map(int, input().split())))\n",
    "\n",
    "for test in test_info:\n",
    "    result = zero_cnt(test)\n",
    "    print(result)"
   ]
  },
  {
   "cell_type": "code",
   "execution_count": 78,
   "id": "f3453430",
   "metadata": {},
   "outputs": [
    {
     "name": "stdout",
     "output_type": "stream",
     "text": [
      "3  \n",
      "0 10\n",
      "2\n",
      "33 1005\n",
      "199\n",
      "1 4\n",
      "0\n"
     ]
    }
   ],
   "source": [
    "x = int(input())\n",
    "for i in range(x):\n",
    "    count = 0\n",
    "    a, b = map(int, input().split())\n",
    "    for i in range(a, b+1):\n",
    "        w = str(i)\n",
    "        count += w.count('0')\n",
    "    print(count)"
   ]
  },
  {
   "cell_type": "code",
   "execution_count": 79,
   "id": "546679d6",
   "metadata": {},
   "outputs": [
    {
     "name": "stdout",
     "output_type": "stream",
     "text": [
      "3  \n",
      "0 10\n",
      "2\n",
      "33 1005\n",
      "199\n",
      "1 4\n",
      "0\n"
     ]
    }
   ],
   "source": [
    "def zero_cnt():\n",
    "    start, end = map(int, input().split())\n",
    "    result = 0\n",
    "    for num in range(start, end+1):\n",
    "        result += len([i for i in str(num) if i == '0'])\n",
    "    return result\n",
    "\n",
    "test_num = map(int, input().strip())\n",
    "for num in range(*test_num):\n",
    "    result = zero_cnt()\n",
    "    print(result)"
   ]
  },
  {
   "cell_type": "code",
   "execution_count": null,
   "id": "6518325f",
   "metadata": {},
   "outputs": [],
   "source": []
  }
 ],
 "metadata": {
  "kernelspec": {
   "display_name": "Python 3",
   "language": "python",
   "name": "python3"
  },
  "language_info": {
   "codemirror_mode": {
    "name": "ipython",
    "version": 3
   },
   "file_extension": ".py",
   "mimetype": "text/x-python",
   "name": "python",
   "nbconvert_exporter": "python",
   "pygments_lexer": "ipython3",
   "version": "3.8.8"
  }
 },
 "nbformat": 4,
 "nbformat_minor": 5
}
