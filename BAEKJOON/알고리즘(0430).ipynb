{
 "cells": [
  {
   "cell_type": "markdown",
   "id": "31ab2f14",
   "metadata": {},
   "source": [
    "2587번"
   ]
  },
  {
   "cell_type": "code",
   "execution_count": 26,
   "id": "1f62c32f",
   "metadata": {},
   "outputs": [
    {
     "name": "stdout",
     "output_type": "stream",
     "text": [
      "정수 1 2 3 4 5\n",
      "3\n",
      "3\n"
     ]
    }
   ],
   "source": [
    "def test():\n",
    "    a = list(map(int, input('정수 ').split(' ')))\n",
    "    return a\n",
    "#     assert type(a) is int, 'not Integer' #입력변수 a는 정수이고\n",
    "#     assert a > 0, 'not positive' #양수여야 한다.\n",
    "\n",
    "def main(*args):\n",
    "    print(int(sum(args)/len(args)))\n",
    "    print(sorted(args)[len(args)//2])\n",
    "\n",
    "main(*test())"
   ]
  },
  {
   "cell_type": "code",
   "execution_count": 19,
   "id": "d1802e78",
   "metadata": {},
   "outputs": [
    {
     "name": "stdout",
     "output_type": "stream",
     "text": [
      "34\n",
      "30\n"
     ]
    }
   ],
   "source": [
    "def main(*args):\n",
    "    print(int(sum(args)/len(args)))\n",
    "    print(sorted(args)[len(args)//2])\n",
    "\n",
    "main(10,40,30,60,30)"
   ]
  },
  {
   "cell_type": "code",
   "execution_count": 20,
   "id": "09dbe95a",
   "metadata": {},
   "outputs": [
    {
     "name": "stdout",
     "output_type": "stream",
     "text": [
      "10\n",
      "40\n",
      "30\n",
      "60\n",
      "30\n",
      "34\n",
      "30\n"
     ]
    }
   ],
   "source": [
    "x = []\n",
    "for i in range(5):\n",
    "    x.append(int(input()))\n",
    "x.sort()\n",
    "print(int(sum(x)/5))\n",
    "print(x[2])"
   ]
  },
  {
   "cell_type": "markdown",
   "id": "59ad0855",
   "metadata": {},
   "source": [
    "1236번"
   ]
  },
  {
   "cell_type": "code",
   "execution_count": 36,
   "id": "bbf496a2",
   "metadata": {},
   "outputs": [
    {
     "name": "stdout",
     "output_type": "stream",
     "text": [
      "5 8\n",
      "....XXXX\n",
      "........\n",
      "XX.X.XX.\n",
      "........\n",
      "........\n",
      "3\n"
     ]
    }
   ],
   "source": [
    "row ,col = map(int, input().split())\n",
    "\n",
    "matrix = [[*input()] for _ in range(row)]\n",
    "\n",
    "empty_v = row\n",
    "for i in range(row):\n",
    "    for j in range(col):\n",
    "        if matrix[i][j] == 'X':\n",
    "            empty_v -= 1\n",
    "            break\n",
    "\n",
    "empty_h = col\n",
    "for j in range(col):\n",
    "    for i in range(row):\n",
    "        if matrix[i][j] == 'X':\n",
    "            empty_h -= 1\n",
    "            break \n",
    "            \n",
    "print(max(empty_v, empty_h))"
   ]
  },
  {
   "cell_type": "code",
   "execution_count": null,
   "id": "6e9e841b",
   "metadata": {},
   "outputs": [],
   "source": []
  }
 ],
 "metadata": {
  "kernelspec": {
   "display_name": "Python 3",
   "language": "python",
   "name": "python3"
  },
  "language_info": {
   "codemirror_mode": {
    "name": "ipython",
    "version": 3
   },
   "file_extension": ".py",
   "mimetype": "text/x-python",
   "name": "python",
   "nbconvert_exporter": "python",
   "pygments_lexer": "ipython3",
   "version": "3.8.8"
  }
 },
 "nbformat": 4,
 "nbformat_minor": 5
}
