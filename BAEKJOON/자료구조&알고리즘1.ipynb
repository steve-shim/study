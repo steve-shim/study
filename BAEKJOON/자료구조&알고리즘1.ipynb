{
 "cells": [
  {
   "cell_type": "markdown",
   "metadata": {
    "colab_type": "text",
    "id": "view-in-github"
   },
   "source": [
    "<a href=\"https://colab.research.google.com/github/steve-shim/algorithm/blob/main/%EC%9E%90%EB%A3%8C%EA%B5%AC%EC%A1%B0%26%EC%95%8C%EA%B3%A0%EB%A6%AC%EC%A6%981.ipynb\" target=\"_parent\"><img src=\"https://colab.research.google.com/assets/colab-badge.svg\" alt=\"Open In Colab\"/></a>"
   ]
  },
  {
   "cell_type": "code",
   "execution_count": null,
   "metadata": {
    "colab": {
     "base_uri": "https://localhost:8080/"
    },
    "id": "327zAtM5OETj",
    "outputId": "9434babe-41c0-4385-eaa5-0c10659cee35"
   },
   "outputs": [
    {
     "name": "stdout",
     "output_type": "stream",
     "text": [
      "6\n",
      "61\n",
      "13\n",
      "63\n",
      "255\n"
     ]
    }
   ],
   "source": [
    "print(int('0b110',2))\n",
    "print(int('0o75',8))\n",
    "print(int('13'))\n",
    "print(int('0x3F',16))\n",
    "print(int('0xFF',16))"
   ]
  },
  {
   "cell_type": "code",
   "execution_count": null,
   "metadata": {
    "colab": {
     "base_uri": "https://localhost:8080/"
    },
    "id": "mwToo0hXPQ-t",
    "outputId": "49c1ff3b-93e7-4d3d-aba1-9bafb649b975"
   },
   "outputs": [
    {
     "name": "stdout",
     "output_type": "stream",
     "text": [
      "a부터 b까지 정수의 합\n",
      "정수 a 입력:10\n",
      "정수 b 입력:1\n",
      "1부터 10까지 정수의 합은 55\n"
     ]
    }
   ],
   "source": [
    "print('a부터 b까지 정수의 합')\n",
    "a = int(input('정수 a 입력:'))\n",
    "b = int(input('정수 b 입력:'))\n",
    "\n",
    "if a > b:\n",
    "  a,b = b,a\n",
    "\n",
    "sum = 0\n",
    "for i in range(a, b+1):\n",
    "  sum += i\n",
    "\n",
    "print(f'{a}부터 {b}까지 정수의 합은 {sum}')"
   ]
  },
  {
   "cell_type": "markdown",
   "metadata": {
    "id": "sbK4p0L2dEbm"
   },
   "source": [
    "개선 전"
   ]
  },
  {
   "cell_type": "code",
   "execution_count": null,
   "metadata": {
    "colab": {
     "base_uri": "https://localhost:8080/"
    },
    "id": "4gKi5VfPa1g_",
    "outputId": "db7f35d4-2e7b-4253-f180-c23648c6235e"
   },
   "outputs": [
    {
     "name": "stdout",
     "output_type": "stream",
     "text": [
      "+와 -를 번갈아 출력\n",
      "몇 개 출력?13\n",
      "+-+-+-+-+-+-+\n"
     ]
    }
   ],
   "source": [
    "print('+와 -를 번갈아 출력')\n",
    "n = int(input('몇 개 출력?'))\n",
    "\n",
    "for i in range(1,n+1):\n",
    "  if i % 2:\n",
    "    print('+',end='') # 홀수 -> 참\n",
    "  else:\n",
    "    print('-',end='') # 짝수\n",
    "print()"
   ]
  },
  {
   "cell_type": "markdown",
   "metadata": {
    "id": "yIC67-vWdomN"
   },
   "source": [
    "개선 후"
   ]
  },
  {
   "cell_type": "code",
   "execution_count": null,
   "metadata": {
    "colab": {
     "base_uri": "https://localhost:8080/"
    },
    "id": "wYlDvxg-djA0",
    "outputId": "6baa0e60-257e-4fc8-9c46-e539e3a4f25c"
   },
   "outputs": [
    {
     "name": "stdout",
     "output_type": "stream",
     "text": [
      "+와 -를 번갈아 출력\n",
      "몇 개 출력?13\n",
      "+-+-+-+-+-+-+"
     ]
    }
   ],
   "source": [
    "print('+와 -를 번갈아 출력')\n",
    "n = int(input('몇 개 출력?'))\n",
    "\n",
    "for _ in range(n//2):\n",
    "  print('+-',end='') # 홀수 -> 참\n",
    "\n",
    "if n % 2: \n",
    "  print('+',end='') # n이 홀수일 때만 뒤에 +출력\n"
   ]
  },
  {
   "cell_type": "code",
   "execution_count": null,
   "metadata": {
    "colab": {
     "base_uri": "https://localhost:8080/"
    },
    "id": "dRUAoPpQeK1F",
    "outputId": "2174fbe0-60b1-45fe-b382-80efe6ef6a9c"
   },
   "outputs": [
    {
     "name": "stdout",
     "output_type": "stream",
     "text": [
      "*를 출력합니다.\n",
      "몇 개를 출력할까요? : 14\n",
      "몇 개마다 줄바꿈할까요? : 5\n",
      "*****\n",
      "*****\n",
      "****\n"
     ]
    }
   ],
   "source": [
    "print('*를 출력합니다.')\n",
    "n = int(input('몇 개를 출력할까요? : '))\n",
    "w = int(input('몇 개마다 줄바꿈할까요? : '))\n",
    "\n",
    "for i in range(n):      # n번 반복\n",
    "    print('*', end='')\n",
    "    if i % w == w - 1:  # n번 판단\n",
    "        print()         # 줄바꿈\n",
    "if n % w:\n",
    "    print()             # 줄바꿈"
   ]
  },
  {
   "cell_type": "code",
   "execution_count": null,
   "metadata": {
    "colab": {
     "base_uri": "https://localhost:8080/"
    },
    "id": "mv7KX_Oz1gHB",
    "outputId": "329d8eb0-4b05-4681-c81c-8520dbbd36f6"
   },
   "outputs": [
    {
     "name": "stdout",
     "output_type": "stream",
     "text": [
      "*를 출력합니다.\n",
      "몇 개를 출력할까요?: 14\n",
      "몇 개마다 줄바꿈할까요?: 5\n",
      "*****\n",
      "*****\n",
      "****\n"
     ]
    }
   ],
   "source": [
    "print('*를 출력합니다.')\n",
    "n = int(input('몇 개를 출력할까요?: '))\n",
    "w = int(input('몇 개마다 줄바꿈할까요?: '))\n",
    "\n",
    "for _ in range(n // w):  # 반복 n // w번 반복 (14 // 5 -> 2)\n",
    "    print('*' * w)\n",
    "\n",
    "rest = n % w           # 14 % 5 -> 4\n",
    "if rest:\n",
    "    print('*' * rest)  # if 문 1번 판단"
   ]
  },
  {
   "cell_type": "code",
   "execution_count": null,
   "metadata": {
    "colab": {
     "base_uri": "https://localhost:8080/"
    },
    "id": "HvSvRTKr1ndz",
    "outputId": "86d91802-7c24-4ebc-f150-0e9fefaabf21"
   },
   "outputs": [
    {
     "name": "stdout",
     "output_type": "stream",
     "text": [
      "*를 출력합니다.\n",
      "몇 개를 출력할까요?: 15\n",
      "몇 개마다 줄바꿈할까요?: 5\n",
      "*****\n",
      "*****\n",
      "*****\n"
     ]
    }
   ],
   "source": [
    "print('*를 출력합니다.')\n",
    "n = int(input('몇 개를 출력할까요?: '))\n",
    "w = int(input('몇 개마다 줄바꿈할까요?: '))\n",
    "\n",
    "for _ in range(n // w):  # 반복 n // w번 반복 (15 // 5 -> 3)\n",
    "    print('*' * w)\n",
    "\n",
    "rest = n % w           # 15 % 5 -> 0\n",
    "if rest:\n",
    "    print('*' * rest)  # if 문 1번 판단"
   ]
  },
  {
   "cell_type": "code",
   "execution_count": null,
   "metadata": {
    "colab": {
     "base_uri": "https://localhost:8080/"
    },
    "id": "Wm-vpGvb175h",
    "outputId": "39656692-1698-428e-820e-92351d20d5ab"
   },
   "outputs": [
    {
     "name": "stdout",
     "output_type": "stream",
     "text": [
      "1부터 n까지 정수의 합을 구합니다.\n",
      "n값을 입력하세요. : 10\n",
      "1부터 10까지 정수의 합은 55입니다.\n",
      "반복을 종료할 때 i값은 11입니다.\n"
     ]
    }
   ],
   "source": [
    "print('1부터 n까지 정수의 합을 구합니다.')\n",
    "n = int(input('n값을 입력하세요. : '))\n",
    "\n",
    "sum = 0\n",
    "i = 1\n",
    "\n",
    "while i <= n:  # i가 n보다 작거나 같은 동안 반복\n",
    "    sum += i   # sum에 i를 더함\n",
    "    i += 1     # i에 1을 더함\n",
    "    \n",
    "print(f'1부터 {n}까지 정수의 합은 {sum}입니다.')\n",
    "print(f'반복을 종료할 때 i값은 {i}입니다.')\n"
   ]
  },
  {
   "cell_type": "code",
   "execution_count": null,
   "metadata": {
    "colab": {
     "base_uri": "https://localhost:8080/"
    },
    "id": "KMW_KwYu3lmZ",
    "outputId": "d5b6970c-f885-4ea0-a09c-fa2fe6f2e7ab"
   },
   "outputs": [
    {
     "name": "stdout",
     "output_type": "stream",
     "text": [
      "1부터 n까지 정수의 합을 구합니다.\n",
      "n값을 입력하세요.: -3\n",
      "n값을 입력하세요.: 10\n",
      "1부터 10까지 정수의 합은 55입니다.\n",
      "반복을 종료할 때 i값은 10입니다.\n"
     ]
    }
   ],
   "source": [
    "print('1부터 n까지 정수의 합을 구합니다.')\n",
    "\n",
    "while True:\n",
    "    n = int(input('n값을 입력하세요.: '))\n",
    "    if n > 0:\n",
    "        break  # n이 0보다 커질 때까지 반복\n",
    "\n",
    "sum = 0\n",
    "i = 1\n",
    "\n",
    "for i in range(1, n + 1):\n",
    "    sum += i  # sum에 i를 더함\n",
    "\n",
    "print(f'1부터 {n}까지 정수의 합은 {sum}입니다.')\n",
    "print(f'반복을 종료할 때 i값은 {i}입니다.')"
   ]
  },
  {
   "cell_type": "code",
   "execution_count": null,
   "metadata": {
    "colab": {
     "base_uri": "https://localhost:8080/"
    },
    "id": "2ONu_Nva36tv",
    "outputId": "3daf6387-199b-4bef-fe92-e388804c1b4e"
   },
   "outputs": [
    {
     "name": "stdout",
     "output_type": "stream",
     "text": [
      "직사각형의 넓이를 입력하세요.: 32\n",
      "i:한 변의 길이 1 -> 1 × 32\n",
      "i:한 변의 길이 2 -> 2 × 16\n",
      "i:한 변의 길이 4 -> 4 × 8\n",
      "마지막 i:6\n"
     ]
    }
   ],
   "source": [
    "area = int(input('직사각형의 넓이를 입력하세요.: '))\n",
    "\n",
    "for i in range(1, area + 1):  # 1부터 사각형의 넓이 계산\n",
    "    if i * i > area: break\n",
    "    if area % i: continue\n",
    "    print(f'i:한 변의 길이 {i} -> {i} × {area // i}') # 짧은 변, 긴 변\n",
    "print(f'마지막 i:{i}')"
   ]
  },
  {
   "cell_type": "markdown",
   "metadata": {
    "id": "7QqjB4kBG00c"
   },
   "source": [
    "for-else 에서 반복문을 완전히 돌았을 때만 else 수행\n",
    "\n",
    "반복문을 중간에 break로 나가면 else 수행 안함"
   ]
  },
  {
   "cell_type": "code",
   "execution_count": null,
   "metadata": {
    "colab": {
     "base_uri": "https://localhost:8080/"
    },
    "id": "2ukITvh9Di0l",
    "outputId": "1bba8c77-7e39-4d96-cea9-7dbf3683512a"
   },
   "outputs": [
    {
     "name": "stdout",
     "output_type": "stream",
     "text": [
      "난수의 개수를 입력하세요.: 10\n",
      "26 18 29 16 46 12 79 96 13 \n",
      "프로그램을 중단합니다.\n"
     ]
    }
   ],
   "source": [
    "import random\n",
    "\n",
    "n = int(input('난수의 개수를 입력하세요.: '))\n",
    "\n",
    "for _ in range(n):\n",
    "    r = random.randint(10, 99)\n",
    "    print(r, end=' ')\n",
    "    if r == 13:\n",
    "        print('\\n프로그램을 중단합니다.') \n",
    "        break # 반복문을 중간에 break로 나가면 else 수행 안함\n",
    "else :\n",
    "    print('\\n난수 생성을 종료합니다.')"
   ]
  },
  {
   "cell_type": "code",
   "execution_count": null,
   "metadata": {
    "colab": {
     "base_uri": "https://localhost:8080/"
    },
    "id": "KN_fwhz-GmVJ",
    "outputId": "38ae3d5c-674a-408e-9536-002513532c3b"
   },
   "outputs": [
    {
     "name": "stdout",
     "output_type": "stream",
     "text": [
      "난수의 개수를 입력하세요.: 5\n",
      "15 27 29 19 87 \n",
      "난수 생성을 종료합니다.\n"
     ]
    }
   ],
   "source": [
    "import random\n",
    "\n",
    "n = int(input('난수의 개수를 입력하세요.: '))\n",
    "\n",
    "for _ in range(n):\n",
    "    r = random.randint(10, 99)\n",
    "    print(r, end=' ')\n",
    "    if r == 13:\n",
    "        print('\\n프로그램을 중단합니다.')\n",
    "        break\n",
    "else :\n",
    "    print('\\n난수 생성을 종료합니다.') \n",
    "    # 반복문을 다돌면 else 수행 함"
   ]
  },
  {
   "cell_type": "code",
   "execution_count": null,
   "metadata": {
    "colab": {
     "base_uri": "https://localhost:8080/"
    },
    "id": "xIxmeY_pGwsT",
    "outputId": "30aa1cd7-8f49-4338-8a6c-f06704a9243d"
   },
   "outputs": [
    {
     "name": "stdout",
     "output_type": "stream",
     "text": [
      "1 2 3 4 5 6 7 9 10 11 12 \n"
     ]
    }
   ],
   "source": [
    "# 1부터 12까지 8을 건너 뛰고 출력하기 2\n",
    "\n",
    "for i in list(range(1, 8)) + list(range(9, 13)):\n",
    "    print(i, end=' ')\n",
    "print()"
   ]
  },
  {
   "cell_type": "code",
   "execution_count": null,
   "metadata": {
    "colab": {
     "base_uri": "https://localhost:8080/"
    },
    "id": "unQx1fMDHyw2",
    "outputId": "c81e4ff2-c229-4bfa-fff6-deb8d8393dc9"
   },
   "outputs": [
    {
     "name": "stdout",
     "output_type": "stream",
     "text": [
      "---------------------------\n",
      "  1  2  3  4  5  6  7  8  9\n",
      "  2  4  6  8 10 12 14 16 18\n",
      "  3  6  9 12 15 18 21 24 27\n",
      "  4  8 12 16 20 24 28 32 36\n",
      "  5 10 15 20 25 30 35 40 45\n",
      "  6 12 18 24 30 36 42 48 54\n",
      "  7 14 21 28 35 42 49 56 63\n",
      "  8 16 24 32 40 48 56 64 72\n",
      "  9 18 27 36 45 54 63 72 81\n",
      "---------------------------\n"
     ]
    }
   ],
   "source": [
    "print('-' * 27)\n",
    "for i in range(1, 10):      # 행 루프\n",
    "    for j in range(1, 10):  # 열 루프\n",
    "        print(f'{i*j:3}', end='')\n",
    "    print()                 # 행 변경\n",
    "print('-' * 27)"
   ]
  },
  {
   "cell_type": "code",
   "execution_count": null,
   "metadata": {
    "colab": {
     "base_uri": "https://localhost:8080/"
    },
    "id": "CNqPHF68JuaS",
    "outputId": "ad3bed91-ae1d-4a13-bdb5-210b14157445"
   },
   "outputs": [
    {
     "name": "stdout",
     "output_type": "stream",
     "text": [
      "---------------------------\n",
      "1**2**3**4**5**6**7**8**9**\n",
      "2**4**6**8**10*12*14*16*18*\n",
      "3**6**9**12*15*18*21*24*27*\n",
      "4**8**12*16*20*24*28*32*36*\n",
      "5**10*15*20*25*30*35*40*45*\n",
      "6**12*18*24*30*36*42*48*54*\n",
      "7**14*21*28*35*42*49*56*63*\n",
      "8**16*24*32*40*48*56*64*72*\n",
      "9**18*27*36*45*54*63*72*81*\n",
      "---------------------------\n"
     ]
    }
   ],
   "source": [
    "print('-' * 27)\n",
    "for i in range(1, 10):      # 행 루프\n",
    "    for j in range(1, 10):  # 열 루프\n",
    "        print(f'{i*j:*<3}', end='')\n",
    "    print()                 # 행 변경\n",
    "print('-' * 27)"
   ]
  },
  {
   "cell_type": "code",
   "execution_count": null,
   "metadata": {
    "colab": {
     "base_uri": "https://localhost:8080/"
    },
    "id": "zAh13OdNKYfK",
    "outputId": "ff6e5bb1-6367-4cfd-bba2-a7deff31bd1f"
   },
   "outputs": [
    {
     "name": "stdout",
     "output_type": "stream",
     "text": [
      "오른쪽 아래가 직각인 이등변 삼각형을 출력합니다.\n",
      "짧은 변의 길이를 입력하세요.: 5\n",
      "     *\n",
      "    **\n",
      "   ***\n",
      "  ****\n",
      " *****\n"
     ]
    }
   ],
   "source": [
    "print('오른쪽 아래가 직각인 이등변 삼각형을 출력합니다.')\n",
    "n = int(input('짧은 변의 길이를 입력하세요.: '))\n",
    "\n",
    "for i in range(n):          # 행 루프\n",
    "    for k in range(n - i):\n",
    "      print(\" \", end='')\n",
    "    for j in range(i + 1):  # 열 루프\n",
    "        print('*', end='')\n",
    "    print()"
   ]
  },
  {
   "cell_type": "markdown",
   "metadata": {
    "id": "7MCfkUxqRw6v"
   },
   "source": [
    "전역변수 n과 지역변수 x는 모두 객체 1을 참조하는 이름에 불과하다"
   ]
  },
  {
   "cell_type": "code",
   "execution_count": null,
   "metadata": {
    "colab": {
     "base_uri": "https://localhost:8080/"
    },
    "id": "8CazU1wVMuPF",
    "outputId": "9d679864-a821-4d4c-bb37-4f5951243383"
   },
   "outputs": [
    {
     "name": "stdout",
     "output_type": "stream",
     "text": [
      "id(1) = 94273395595776\n",
      "id(n) = 94273395595776\n",
      "id(x) = 94273395595776\n"
     ]
    }
   ],
   "source": [
    "# 함수의 내부·외부에서 정의한 변수와 객체의 식별 번호를 출력\n",
    "\n",
    "n = 1      # 전역 변수(함수 내부·외부에서 사용)\n",
    "def put_id():\n",
    "    x = 1  # 지역 변수(함수 내부에서만 사용)\n",
    "    print(f'id(x) = {id(x)}')\n",
    "    \n",
    "print(f'id(1) = {id(1)}')\n",
    "print(f'id(n) = {id(n)}')\n",
    "put_id()"
   ]
  },
  {
   "cell_type": "code",
   "execution_count": null,
   "metadata": {
    "colab": {
     "base_uri": "https://localhost:8080/"
    },
    "id": "9WbigprCRvOH",
    "outputId": "7e77a9a7-947c-4fd2-997d-1ec7c87308eb"
   },
   "outputs": [
    {
     "name": "stdout",
     "output_type": "stream",
     "text": [
      "['A', 'B', 'C']\n",
      "[3, 5, 7, 9, 11]\n",
      "[None, None, None, None, None]\n"
     ]
    }
   ],
   "source": [
    "list01 = list('ABC')\n",
    "print(list01)\n",
    "list02 = list(range(3,13,2))\n",
    "print(list02)\n",
    "list03 = [None] * 5\n",
    "print(list03)"
   ]
  },
  {
   "cell_type": "markdown",
   "metadata": {
    "id": "logiKVUSxJeD"
   },
   "source": [
    "리스트나 튜플의 원소값들을 풀어 여러 변수에 대입하는 것 = 언팩(Unpack)"
   ]
  },
  {
   "cell_type": "code",
   "execution_count": null,
   "metadata": {
    "colab": {
     "base_uri": "https://localhost:8080/"
    },
    "id": "awTEs-hdvGuB",
    "outputId": "a25ba4d9-5206-4ff5-cbf4-9e8e2e2b2739"
   },
   "outputs": [
    {
     "name": "stdout",
     "output_type": "stream",
     "text": [
      "1 2 3\n"
     ]
    }
   ],
   "source": [
    "x = [1,2,3]\n",
    "a,b,c = x # x를 언패킹하여 변수 a,b,c에 대입\n",
    "print(a,b,c)"
   ]
  },
  {
   "cell_type": "code",
   "execution_count": null,
   "metadata": {
    "colab": {
     "base_uri": "https://localhost:8080/"
    },
    "id": "Xo0JxhLdyZUP",
    "outputId": "08d120b6-5f1c-4bc3-cb4a-7d71205f48a1"
   },
   "outputs": [
    {
     "name": "stdout",
     "output_type": "stream",
     "text": [
      "가로 길이 10\n",
      "세로 길이 20\n",
      "사각형의 색깔은 red색 입니다.\n",
      "사각형의 둘레: 60\n",
      "사각형의 넓이: 200\n"
     ]
    }
   ],
   "source": [
    "class Rectangle:\n",
    "    def __init__(self, width=0, height=0):\n",
    "        self.width = width\n",
    "        self.height = height if height else width  \n",
    "        print(\"가로 길이\", self.width)\n",
    "        print(\"세로 길이\", self.height)\n",
    "\n",
    "    def getPerimeter(self): \n",
    "        return 2 * (self.width + self.height)\n",
    "\n",
    "    def getArea(self):\n",
    "        return self.width * self.height\n",
    "    \n",
    "class Square(Rectangle):\n",
    "    def __init__(self, *args, **kwargs): # packing -> args = (10,20)\n",
    "        super().__init__(*args)          # unpacking -> width, height = args\n",
    "        self.color = kwargs.get('color', None) # kwargs['color']\n",
    "        \n",
    "        if self.color:\n",
    "            print(f\"사각형의 색깔은 {self.color}색 입니다.\")\n",
    "        \n",
    "    \n",
    "square = Square(10,20,color='red')\n",
    "print(f'사각형의 둘레: {square.getPerimeter()}')\n",
    "print(f'사각형의 넓이: {square.getArea()}')"
   ]
  },
  {
   "cell_type": "code",
   "execution_count": null,
   "metadata": {
    "colab": {
     "base_uri": "https://localhost:8080/",
     "height": 35
    },
    "id": "AxcIFJuBw1r1",
    "outputId": "37256006-2d5c-43c9-b078-abd440b37779"
   },
   "outputs": [
    {
     "data": {
      "application/vnd.google.colaboratory.intrinsic+json": {
       "type": "string"
      },
      "text/plain": [
       "'abc'"
      ]
     },
     "execution_count": 8,
     "metadata": {},
     "output_type": "execute_result"
    }
   ],
   "source": [
    "a = \"abc.json\"\n",
    "a[:-5]"
   ]
  },
  {
   "cell_type": "markdown",
   "metadata": {
    "id": "Ev8g1Cdf13zD"
   },
   "source": [
    "n이 참조하는 곳이 int형인 정수 5에서 str형인 문자열 'ABC'로 업데이트\n",
    "\n",
    "'변수'에 어떤 값을 대입하면 값이 아니라 식별 번호가 바뀐다!"
   ]
  },
  {
   "cell_type": "code",
   "execution_count": null,
   "metadata": {
    "colab": {
     "base_uri": "https://localhost:8080/"
    },
    "id": "UQQa5M_Y0vma",
    "outputId": "52c34f64-fa5d-4ab0-aae4-9367c15d1c7b"
   },
   "outputs": [
    {
     "name": "stdout",
     "output_type": "stream",
     "text": [
      "94858181327488\n",
      "94858181327520\n",
      "140021585607600\n",
      "140020928543600\n"
     ]
    }
   ],
   "source": [
    "n = 5\n",
    "print(id(n))\n",
    "n += 1 # 6\n",
    "print(id(n))\n",
    "n = 'ABC'\n",
    "print(id(n))\n",
    "n += 'D' # 'ABCD'\n",
    "print(id(n))"
   ]
  },
  {
   "cell_type": "markdown",
   "metadata": {
    "id": "kvpMU5KN5i4c"
   },
   "source": [
    "int형과 문자열 str형은 값을 변경할 수 없는 immutable type이다\n",
    "\n",
    "immutable한 객체의 값(5,'ABC') 자체는 변경하는 것이 불가능하므로 다른 immutable한 객체(6,'ABCD')를 참조하도록 업데이트했다"
   ]
  },
  {
   "cell_type": "markdown",
   "metadata": {
    "id": "vvW2VxUc9JGx"
   },
   "source": [
    "- 좌변에 변수 이름이 처음 나온 경우, 그 변수에 맞는 자료형으로 자동 선언해 준다\n",
    "- 대입식은 값 자체가 아니라 참조하는 객체의 식별 번호를 대입한다\n",
    "- 여러 변수에 여러 값을 한꺼번에 대입할 수 있다"
   ]
  },
  {
   "cell_type": "code",
   "execution_count": null,
   "metadata": {
    "colab": {
     "base_uri": "https://localhost:8080/"
    },
    "id": "vo-G2qCa1qcj",
    "outputId": "ac52a8ea-362b-4c68-f73e-4887dda40a59"
   },
   "outputs": [
    {
     "name": "stdout",
     "output_type": "stream",
     "text": [
      "True\n",
      "True\n"
     ]
    }
   ],
   "source": [
    "a = 5\n",
    "b = 5\n",
    "print(a == b) \n",
    "print(a is b)"
   ]
  },
  {
   "cell_type": "code",
   "execution_count": null,
   "metadata": {
    "colab": {
     "base_uri": "https://localhost:8080/"
    },
    "id": "fNrr8aF797r7",
    "outputId": "b8e40ad4-29a7-490a-f862-d12a31225d97"
   },
   "outputs": [
    {
     "name": "stdout",
     "output_type": "stream",
     "text": [
      "True\n",
      "False\n"
     ]
    }
   ],
   "source": [
    "a = [1,2,3]\n",
    "b = [1,2,3]\n",
    "print(a == b) # 등가성(equality) 비교 -> 좌변과 우변의 값이 같은지 비교\n",
    "print(a is b) # 동일성(identity) 비교 -> 값은 물론 객체의 식별 번호까지 같은지 비교"
   ]
  },
  {
   "cell_type": "code",
   "execution_count": null,
   "metadata": {
    "colab": {
     "base_uri": "https://localhost:8080/"
    },
    "id": "XVmpg3HZ9_1y",
    "outputId": "38799b62-2f5a-4443-97ce-d8823ee2e557"
   },
   "outputs": [
    {
     "name": "stdout",
     "output_type": "stream",
     "text": [
      "True\n",
      "False\n",
      "True\n"
     ]
    }
   ],
   "source": [
    "print([1,2,3] < [1,2,4]) # 앞쪽 원소부터 대소관계를 보면서 간다\n",
    "print([1,3,4] < [1,2,100,10]) # 앞쪽 원소가 더 크면 크다고 본다 \n",
    "print([1,2,3] < [1,2,3,-1]) # 배열이 길면 더 크다고 본다"
   ]
  },
  {
   "cell_type": "code",
   "execution_count": null,
   "metadata": {
    "colab": {
     "base_uri": "https://localhost:8080/"
    },
    "id": "6B5WGNjz-kxi",
    "outputId": "3ab44441-342c-4b28-834b-1e817ae35e77"
   },
   "outputs": [
    {
     "data": {
      "text/plain": [
       "[10]"
      ]
     },
     "execution_count": 28,
     "metadata": {},
     "output_type": "execute_result"
    }
   ],
   "source": [
    "a = [10,]\n",
    "b = a.copy()\n",
    "b"
   ]
  },
  {
   "cell_type": "code",
   "execution_count": null,
   "metadata": {
    "colab": {
     "base_uri": "https://localhost:8080/"
    },
    "id": "AzzKBiST_lQL",
    "outputId": "74fb3c16-8aa5-41da-dd09-b0b96b14caf1"
   },
   "outputs": [
    {
     "name": "stdout",
     "output_type": "stream",
     "text": [
      "배열의 최댓값을 구합니다.\n",
      "원소 수를 입력하세요 : 5\n",
      "x[0]를 입력하세요.: 31\n",
      "x[1]를 입력하세요.: 23\n",
      "x[2]를 입력하세요.: 4\n",
      "x[3]를 입력하세요.: 6\n",
      "x[4]를 입력하세요.: 3\n",
      "__main__\n",
      "최댓값은 31입니다.\n"
     ]
    }
   ],
   "source": [
    "# 시퀀스 원소의 최댓값 출력하기 (max.py)\n",
    "\n",
    "from typing import Any, Sequence\n",
    "\n",
    "def max_of(a: Sequence) -> Any:\n",
    "    print(__name__) # max.py 자체에서 수행하면 __name__의 값은 __main__이 된다\n",
    "    \"\"\"시퀀스형 a 요소의 최댓값을 반환\"\"\"\n",
    "    maximum = a[0]\n",
    "    for i in range(1, len(a)):\n",
    "         if a[i] > maximum: \n",
    "            maximum = a[i]\n",
    "    return maximum\n",
    "\n",
    "if __name__ == '__main__': # max.py를 외부에서 실행할 때는 가려지는 코드 (내부용)\n",
    "    print('배열의 최댓값을 구합니다.')\n",
    "    num = int(input('원소 수를 입력하세요 : '))\n",
    "    x = [None] * num    # 원소 수가 num인 리스트를 생성(중요)\n",
    "\n",
    "    for i in range(num):\n",
    "        x[i] = int(input(f'x[{i}]를 입력하세요.: '))\n",
    "\n",
    "    print(f'최댓값은 {max_of(x)}입니다.')"
   ]
  },
  {
   "cell_type": "markdown",
   "metadata": {
    "id": "I3AuWN75E6A8"
   },
   "source": [
    "max.py 와 같은 경로에 있는 test.py 에서 max모듈을 import해서 max모듈 안의 max_of 함수를 사용해보면 __name__의 값이 __main__이 아니라 max가 되어있는 것을 확인할 수 있다 "
   ]
  },
  {
   "cell_type": "markdown",
   "metadata": {
    "id": "VoevlbroFvf1"
   },
   "source": [
    "- 스크립트 프로그램이 직접 실행될 때 변수 __name__은 '__main__'입니다\n",
    "\n",
    "- 스크립트 프로그램이 임포트될 때 변수 __name__은 원래의 모듈 이름입니다"
   ]
  },
  {
   "cell_type": "markdown",
   "metadata": {
    "id": "axkOBcqDGMwv"
   },
   "source": [
    "모든 것을 객체로 다루는 파이썬에서 모듈도 당연히 객체.\n",
    "\n",
    "모듈은 프로그램이 처음 임포트되는 시점에 그 모듈 객체가 생성되면서 초기화되는 구조"
   ]
  },
  {
   "cell_type": "code",
   "execution_count": null,
   "metadata": {
    "id": "y9a9WLjzAvam"
   },
   "outputs": [],
   "source": [
    "# test.py\n",
    "import max\n",
    "\n",
    "print(max.max_of([30,1,3,4,5]))\n",
    "# max\n",
    "# 30\n"
   ]
  },
  {
   "cell_type": "code",
   "execution_count": null,
   "metadata": {
    "colab": {
     "base_uri": "https://localhost:8080/"
    },
    "id": "G7lzOaEGG974",
    "outputId": "513b1c59-e3ff-4dc7-a7f6-3aecae380e23"
   },
   "outputs": [
    {
     "name": "stdout",
     "output_type": "stream",
     "text": [
      "원본 리스트 140020927580192\n",
      "[1, 2, 3, 4, 5]\n",
      "[5, 4, 3, 2, 1] 140020927580192\n",
      "슬라이싱으로 복제한 완전 새로운 리스트 140020928142544\n",
      "[5, 4, 3, 2, 1]\n",
      "역순 새로운 객체 생성 2가지 방법\n",
      "[1, 2, 3, 4, 5]\n",
      "[1, 2, 3, 4, 5]\n"
     ]
    }
   ],
   "source": [
    "x = [1,2,3,4,5]\n",
    "print(\"원본 리스트\",id(x))\n",
    "print(x)\n",
    "x.reverse() # inplace 방식으로 객체 자체를 바꾼다\n",
    "print(x, id(x))\n",
    "print(\"슬라이싱으로 복제한 완전 새로운 리스트\",id(x[:]))\n",
    "print(x[:])\n",
    "\n",
    "print(\"역순 새로운 객체 생성 2가지 방법\")\n",
    "print(x[::-1])\n",
    "print(list(reversed(x)))"
   ]
  },
  {
   "cell_type": "code",
   "execution_count": null,
   "metadata": {
    "colab": {
     "base_uri": "https://localhost:8080/"
    },
    "id": "Z7Gp78tQR4np",
    "outputId": "26f72893-fab8-4ddd-beee-396120eb690e"
   },
   "outputs": [
    {
     "name": "stdout",
     "output_type": "stream",
     "text": [
      "15\n",
      "15\n",
      "255\n"
     ]
    }
   ],
   "source": [
    "print(255 % 16)\n",
    "print(255 // 16)\n",
    "print(16*15 + 15)"
   ]
  },
  {
   "cell_type": "code",
   "execution_count": null,
   "metadata": {
    "colab": {
     "base_uri": "https://localhost:8080/"
    },
    "id": "LMIXcyIeJEWz",
    "outputId": "596f983a-de31-4a01-ada6-c63fae018650"
   },
   "outputs": [
    {
     "name": "stdout",
     "output_type": "stream",
     "text": [
      "10진수를 n진수로 변환합니다.\n",
      "변환할 값으로 음이 아닌 정수를 입력하세요.: 10\n",
      "어떤 진수로 변환할까요?: 2\n",
      "2진수로는 1010입니다.\n",
      "한 번 더 변환할까요?(Y ... 예/N ... 아니오): y\n",
      "변환할 값으로 음이 아닌 정수를 입력하세요.: 255\n",
      "어떤 진수로 변환할까요?: 16\n",
      "16진수로는 FF입니다.\n",
      "한 번 더 변환할까요?(Y ... 예/N ... 아니오): n\n"
     ]
    }
   ],
   "source": [
    "def card_conv(x: int, r: int) -> str:\n",
    "    \"\"\"정수 x를 r 진수로 변환한 뒤 그 수를 나타내는 문자열을 반환\"\"\"\n",
    "\n",
    "    d = ''  # 변환 뒤 문자열\n",
    "    dchar = '0123456789ABCDEFGHIJKLMNOPQRSTUVWXYZ'\n",
    "\n",
    "    while x > 0:\n",
    "        d += dchar [x % r]  # 해당하는 문자를 꺼내 결합\n",
    "        x //= r\n",
    "\n",
    "    return d[::-1]          # 역순으로 반환\n",
    "\n",
    "if __name__ == '__main__':\n",
    "    print('10진수를 n진수로 변환합니다.')\n",
    "\n",
    "    while True:\n",
    "        while True :  # 음이 아닌 정수를 입력받음\n",
    "            no = int(input('변환할 값으로 음이 아닌 정수를 입력하세요.: '))\n",
    "            if no > 0:\n",
    "                break\n",
    "\n",
    "        while True :  # 2~36진수의 정수값을 입력받음\n",
    "            cd = int(input('어떤 진수로 변환할까요?: '))\n",
    "            if 2 <=  cd <=  36:\n",
    "                break\n",
    "\n",
    "        print(f'{cd}진수로는 {card_conv(no, cd)}입니다.')\n",
    "\n",
    "        retry = input( \"한 번 더 변환할까요?(Y ... 예/N ... 아니오): \")\n",
    "        if retry in {'N', 'n'}:\n",
    "           break"
   ]
  },
  {
   "cell_type": "code",
   "execution_count": null,
   "metadata": {
    "id": "Aw_8Bq-7Q_tt"
   },
   "outputs": [],
   "source": []
  }
 ],
 "metadata": {
  "colab": {
   "authorship_tag": "ABX9TyN++Osdfs3neScHrJ7ys/+L",
   "include_colab_link": true,
   "name": "자료구조&알고리즘1.ipynb",
   "provenance": []
  },
  "kernelspec": {
   "display_name": "Python 3",
   "language": "python",
   "name": "python3"
  },
  "language_info": {
   "codemirror_mode": {
    "name": "ipython",
    "version": 3
   },
   "file_extension": ".py",
   "mimetype": "text/x-python",
   "name": "python",
   "nbconvert_exporter": "python",
   "pygments_lexer": "ipython3",
   "version": "3.8.8"
  }
 },
 "nbformat": 4,
 "nbformat_minor": 1
}
