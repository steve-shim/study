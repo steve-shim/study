{
 "cells": [
  {
   "cell_type": "code",
   "execution_count": 54,
   "id": "8219b271",
   "metadata": {},
   "outputs": [
    {
     "ename": "ValueError",
     "evalue": "invalid literal for int() with base 10: ''",
     "output_type": "error",
     "traceback": [
      "\u001b[1;31m---------------------------------------------------------------------------\u001b[0m",
      "\u001b[1;31mValueError\u001b[0m                                Traceback (most recent call last)",
      "\u001b[1;32m<ipython-input-54-0e44d74b2674>\u001b[0m in \u001b[0;36m<module>\u001b[1;34m\u001b[0m\n\u001b[0;32m      1\u001b[0m \u001b[1;32mimport\u001b[0m \u001b[0msys\u001b[0m\u001b[1;33m\u001b[0m\u001b[1;33m\u001b[0m\u001b[0m\n\u001b[1;32m----> 2\u001b[1;33m \u001b[0mT\u001b[0m \u001b[1;33m=\u001b[0m \u001b[0mint\u001b[0m\u001b[1;33m(\u001b[0m\u001b[0msys\u001b[0m\u001b[1;33m.\u001b[0m\u001b[0mstdin\u001b[0m\u001b[1;33m.\u001b[0m\u001b[0mreadline\u001b[0m\u001b[1;33m(\u001b[0m\u001b[1;33m)\u001b[0m\u001b[1;33m)\u001b[0m\u001b[1;33m\u001b[0m\u001b[1;33m\u001b[0m\u001b[0m\n\u001b[0m\u001b[0;32m      3\u001b[0m \u001b[1;32mfor\u001b[0m \u001b[0mt\u001b[0m \u001b[1;32min\u001b[0m \u001b[0mrange\u001b[0m\u001b[1;33m(\u001b[0m\u001b[0mT\u001b[0m\u001b[1;33m)\u001b[0m\u001b[1;33m:\u001b[0m\u001b[1;33m\u001b[0m\u001b[1;33m\u001b[0m\u001b[0m\n\u001b[0;32m      4\u001b[0m     \u001b[0mN\u001b[0m\u001b[1;33m,\u001b[0m \u001b[0mM\u001b[0m \u001b[1;33m=\u001b[0m \u001b[0mmap\u001b[0m\u001b[1;33m(\u001b[0m\u001b[0mint\u001b[0m\u001b[1;33m,\u001b[0m \u001b[0msys\u001b[0m\u001b[1;33m.\u001b[0m\u001b[0mstdin\u001b[0m\u001b[1;33m.\u001b[0m\u001b[0mreadline\u001b[0m\u001b[1;33m(\u001b[0m\u001b[1;33m)\u001b[0m\u001b[1;33m.\u001b[0m\u001b[0msplit\u001b[0m\u001b[1;33m(\u001b[0m\u001b[1;33m)\u001b[0m\u001b[1;33m)\u001b[0m\u001b[1;33m\u001b[0m\u001b[1;33m\u001b[0m\u001b[0m\n\u001b[0;32m      5\u001b[0m     \u001b[0mc\u001b[0m \u001b[1;33m=\u001b[0m \u001b[1;36m0\u001b[0m\u001b[1;33m\u001b[0m\u001b[1;33m\u001b[0m\u001b[0m\n",
      "\u001b[1;31mValueError\u001b[0m: invalid literal for int() with base 10: ''"
     ]
    }
   ],
   "source": [
    "import sys\n",
    "T = int(sys.stdin.readline())\n",
    "for t in range(T):\n",
    "    N, M = map(int, sys.stdin.readline().split())\n",
    "    c = 0\n",
    "    for i in range(N,M+1):\n",
    "        c += str(i).count('0')\n",
    "    print(c)\n"
   ]
  },
  {
   "cell_type": "code",
   "execution_count": 52,
   "id": "2aae016e",
   "metadata": {},
   "outputs": [
    {
     "name": "stdout",
     "output_type": "stream",
     "text": [
      "3\n",
      "0 10\n",
      "2\n",
      "33 1005\n",
      "199\n",
      "1 4\n",
      "0\n"
     ]
    }
   ],
   "source": [
    "num = int(input())\n",
    "\n",
    "def check_0(nums):\n",
    "    cnt = 0\n",
    "    start, end = nums\n",
    "    for num in range(start, end+1):\n",
    "        if num == 0:\n",
    "            cnt += 1\n",
    "        else:\n",
    "            cnt += my_func(num)\n",
    "    return cnt\n",
    "        \n",
    "def my_func(num, cnt=0):\n",
    "    if not num:\n",
    "        return cnt\n",
    "    if num % 10 == 0:\n",
    "        cnt += 1\n",
    "    num = num // 10\n",
    "    res = my_func(num, cnt)\n",
    "    return max(res, cnt)\n",
    "\n",
    "for i in range(num):\n",
    "    result = check_0(map(int, input().split(' ')))\n",
    "    print(result)"
   ]
  },
  {
   "cell_type": "code",
   "execution_count": 62,
   "id": "428d8c3e",
   "metadata": {
    "scrolled": false
   },
   "outputs": [
    {
     "name": "stdout",
     "output_type": "stream",
     "text": [
      "8\n",
      "4\n",
      "stack [1] count 1\n",
      "stack [1, 2] count 2\n",
      "stack [1, 2, 3] count 3\n",
      "stack [1, 2, 3, 4] count 4\n",
      "3\n",
      "6\n",
      "stack [1, 2, 5] count 5\n",
      "stack [1, 2, 5, 6] count 6\n",
      "8\n",
      "stack [1, 2, 5, 7] count 7\n",
      "stack [1, 2, 5, 7, 8] count 8\n",
      "7\n",
      "5\n",
      "2\n",
      "1\n",
      "+\n",
      "+\n",
      "+\n",
      "+\n",
      "-\n",
      "-\n",
      "+\n",
      "+\n",
      "-\n",
      "+\n",
      "+\n",
      "-\n",
      "-\n",
      "-\n",
      "-\n",
      "-\n"
     ]
    }
   ],
   "source": [
    "n = int(input())\n",
    "count = 0\n",
    "stack = []\n",
    "result = []\n",
    "no_message=True\n",
    "\n",
    "for i in range(0,n):\n",
    "    x = int(input())\n",
    "\n",
    "    while count < x:\n",
    "      count += 1\n",
    "      stack.append(count)\n",
    "      print(\"stack\",stack,\"count\",count)\n",
    "      result.append(\"+\")\n",
    "\n",
    "    if stack[-1]==x:\n",
    "        stack.pop()\n",
    "        result.append(\"-\")\n",
    "    else:\n",
    "        no_message = False\n",
    "        exit(0) #a clean exit without any errors / problems\n",
    "\n",
    "if no_message==False:\n",
    "    print(\"NO\")\n",
    "else:\n",
    "    print(\"\\n\".join(result))"
   ]
  },
  {
   "cell_type": "code",
   "execution_count": 58,
   "id": "bc9dc924",
   "metadata": {},
   "outputs": [
    {
     "name": "stdout",
     "output_type": "stream",
     "text": [
      "8\n",
      "4\n",
      "3\n",
      "6\n",
      "8\n",
      "7\n",
      "5\n",
      "2\n",
      "1\n",
      "[4, 3, 6, 8, 7, 5, 2, 1]\n"
     ]
    }
   ],
   "source": [
    "num = int(input())\n",
    "my_list = []\n",
    "answer = \n",
    "for i in range(num):\n",
    "    my_list.append(int(input()))\n",
    "print(my_list)"
   ]
  },
  {
   "cell_type": "code",
   "execution_count": 60,
   "id": "39707ebf",
   "metadata": {},
   "outputs": [
    {
     "data": {
      "text/plain": [
       "[1, 2, 3, 4, 5, 6, 7, 8]"
      ]
     },
     "execution_count": 60,
     "metadata": {},
     "output_type": "execute_result"
    }
   ],
   "source": [
    "answer = [i for i in range(1,num+1)]\n",
    "answer"
   ]
  },
  {
   "cell_type": "code",
   "execution_count": null,
   "id": "e1e3a3e2",
   "metadata": {},
   "outputs": [],
   "source": [
    "answer = [1, 2, 3, 4, 5, 6, 7, 8]\n",
    "my_list = [4, 3, 6, 8, 7, 5, 2, 1]\n",
    "\n"
   ]
  },
  {
   "cell_type": "code",
   "execution_count": null,
   "id": "4c91ec30",
   "metadata": {},
   "outputs": [],
   "source": [
    "8\n",
    "\n",
    "[8,7,6,5][4,3,2,1]\n",
    "[4,3,2,1]\n",
    "4\n",
    "3\n",
    "6\n",
    "8\n",
    "7\n",
    "5\n",
    "2\n",
    "1"
   ]
  },
  {
   "cell_type": "code",
   "execution_count": null,
   "id": "61f477a6",
   "metadata": {},
   "outputs": [],
   "source": [
    "+\n",
    "+\n",
    "+\n",
    "+\n",
    "-\n",
    "-\n",
    "+\n",
    "+\n",
    "-\n",
    "+\n",
    "+\n",
    "-\n",
    "-\n",
    "-\n",
    "-\n",
    "-"
   ]
  }
 ],
 "metadata": {
  "kernelspec": {
   "display_name": "Python 3",
   "language": "python",
   "name": "python3"
  },
  "language_info": {
   "codemirror_mode": {
    "name": "ipython",
    "version": 3
   },
   "file_extension": ".py",
   "mimetype": "text/x-python",
   "name": "python",
   "nbconvert_exporter": "python",
   "pygments_lexer": "ipython3",
   "version": "3.8.8"
  }
 },
 "nbformat": 4,
 "nbformat_minor": 5
}
