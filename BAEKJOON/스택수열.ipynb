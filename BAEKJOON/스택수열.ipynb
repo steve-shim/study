{
 "cells": [
  {
   "cell_type": "markdown",
   "id": "ca951e97",
   "metadata": {},
   "source": [
    "https://www.acmicpc.net/problem/1874"
   ]
  },
  {
   "cell_type": "code",
   "execution_count": 4,
   "id": "27ee922b",
   "metadata": {},
   "outputs": [
    {
     "name": "stdout",
     "output_type": "stream",
     "text": [
      "gg\n"
     ]
    }
   ],
   "source": [
    "print(\"gg\")"
   ]
  },
  {
   "cell_type": "code",
   "execution_count": 48,
   "id": "81d0b4aa",
   "metadata": {},
   "outputs": [
    {
     "name": "stdout",
     "output_type": "stream",
     "text": [
      "1\n"
     ]
    },
    {
     "data": {
      "text/plain": [
       "[4, 3, 6, 8, 7, 5, 2]"
      ]
     },
     "execution_count": 48,
     "metadata": {},
     "output_type": "execute_result"
    }
   ],
   "source": [
    "target= [4,3,6,8,7,5,2,1]\n",
    "print(target.pop())\n",
    "target"
   ]
  },
  {
   "cell_type": "code",
   "execution_count": 49,
   "id": "fd61c7f5",
   "metadata": {
    "scrolled": true
   },
   "outputs": [
    {
     "name": "stdout",
     "output_type": "stream",
     "text": [
      "4\n"
     ]
    },
    {
     "data": {
      "text/plain": [
       "[3, 6, 8, 7, 5, 2]"
      ]
     },
     "execution_count": 49,
     "metadata": {},
     "output_type": "execute_result"
    }
   ],
   "source": [
    "print(target.pop(0))\n",
    "target"
   ]
  },
  {
   "cell_type": "markdown",
   "id": "71cc6281",
   "metadata": {},
   "source": [
    "[4,3,6,8,7,5,2,1]"
   ]
  },
  {
   "cell_type": "code",
   "execution_count": 50,
   "id": "cdc48897",
   "metadata": {},
   "outputs": [
    {
     "name": "stdout",
     "output_type": "stream",
     "text": [
      "8\n",
      "4\n",
      "3\n",
      "6\n",
      "8\n",
      "7\n",
      "5\n",
      "2\n",
      "1\n",
      "+\n",
      "+\n",
      "+\n",
      "+\n",
      "-\n",
      "-\n",
      "+\n",
      "+\n",
      "-\n",
      "+\n",
      "+\n",
      "-\n",
      "-\n",
      "-\n",
      "-\n",
      "-\n"
     ]
    }
   ],
   "source": [
    "n = int(input())\n",
    "stack = []\n",
    "result = []\n",
    "target = []\n",
    "# for i in range(1,n+1):\n",
    "#     target.append(int(input()))\n",
    "for i in range(1,n+1):\n",
    "    stack.append(i)\n",
    "    target.append(int(input()))\n",
    "    #print(\"+\")\n",
    "    result.append(\"+\")\n",
    "    while 1:\n",
    "        if len(stack) > 0 and stack[-1] == target[0]:\n",
    "            stack_num = stack.pop()\n",
    "            target_num = target.pop(0)\n",
    "            #print(\"-\")\n",
    "            result.append(\"-\")\n",
    "        else:\n",
    "            break\n",
    "if not stack:\n",
    "    for i in result:\n",
    "        print(i)\n",
    "else:\n",
    "    print(\"NO\")"
   ]
  }
 ],
 "metadata": {
  "kernelspec": {
   "display_name": "Python 3",
   "language": "python",
   "name": "python3"
  },
  "language_info": {
   "codemirror_mode": {
    "name": "ipython",
    "version": 3
   },
   "file_extension": ".py",
   "mimetype": "text/x-python",
   "name": "python",
   "nbconvert_exporter": "python",
   "pygments_lexer": "ipython3",
   "version": "3.8.8"
  }
 },
 "nbformat": 4,
 "nbformat_minor": 5
}
