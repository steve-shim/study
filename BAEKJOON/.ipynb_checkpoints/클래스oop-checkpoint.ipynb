{
 "cells": [
  {
   "cell_type": "code",
   "execution_count": 3,
   "id": "41dce39b",
   "metadata": {},
   "outputs": [
    {
     "name": "stdout",
     "output_type": "stream",
     "text": [
      "Philipp is writing code...\n",
      "Max 20\n",
      "Keyboard Magician\n",
      "Lisa 25\n",
      "Keyboard Magician\n"
     ]
    }
   ],
   "source": [
    "se1 = [\"SoftwareEngineer\",\"Max\", 20, \"Junior\", 5000]\n",
    "se2 = [\"SoftwareEngineer\",\"Lisa\", 25, \"Senior\", 7000]\n",
    "d1 = [\"Designer\",\"Philipp\", 25, \"Senior\", 7000]\n",
    "\n",
    "def code(se):\n",
    "    print(f\"{se[1]} is writing code...\")\n",
    "\n",
    "code(d1)\n",
    "    \n",
    "class SoftwareEngineer:\n",
    "    # class attribute\n",
    "    alias = \"Keyboard Magician\"\n",
    "    \n",
    "    def __init__(self, name, age, level, salary):\n",
    "        # instance attributes\n",
    "        self.name = name\n",
    "        self.age = age\n",
    "        self.level = level\n",
    "        self.salary = salary\n",
    "        \n",
    "# instance        \n",
    "se1 = SoftwareEngineer(\"Max\", 20, \"Junior\", 5000)\n",
    "#print(SoftwareEngineer.name)\n",
    "print(se1.name, se1.age)\n",
    "print(SoftwareEngineer.alias)\n",
    "\n",
    "se2 = SoftwareEngineer(\"Lisa\", 25, \"Senior\", 7000)\n",
    "print(se2.name, se2.age)\n",
    "print(SoftwareEngineer.alias)"
   ]
  },
  {
   "cell_type": "markdown",
   "id": "82100d97",
   "metadata": {},
   "source": [
    "SoftwareEngineer 클래스 끼리 관리함"
   ]
  },
  {
   "cell_type": "code",
   "execution_count": 6,
   "id": "21d85020",
   "metadata": {},
   "outputs": [
    {
     "name": "stdout",
     "output_type": "stream",
     "text": [
      "Max 20\n",
      "Keyboard Magician\n",
      "Lisa 25\n",
      "Keyboard Magician\n",
      "Max is writing code...\n",
      "Lisa is writing code...\n",
      "Max is writing code in Python...\n",
      "Lisa is writing code in C++...\n",
      "name = Max, age = 20, level = Junior\n",
      "se1 <__main__.SoftwareEngineer object at 0x000001A73F956D30>\n",
      "se2 <__main__.SoftwareEngineer object at 0x000001A73F9AAAC0>\n"
     ]
    }
   ],
   "source": [
    "se1 = [\"SoftwareEngineer\",\"Max\", 20, \"Junior\", 5000]\n",
    "se2 = [\"SoftwareEngineer\",\"Lisa\", 25, \"Senior\", 7000]\n",
    "d1 = [\"Designer\",\"Philipp\", 25, \"Senior\", 7000]\n",
    "\n",
    "    \n",
    "class SoftwareEngineer:\n",
    "    \n",
    "    # class attribute\n",
    "    alias = \"Keyboard Magician\"\n",
    "    \n",
    "    def __init__(self, name, age, level, salary):\n",
    "        # instance attributes\n",
    "        self.name = name\n",
    "        self.age = age\n",
    "        self.level = level\n",
    "        self.salary = salary\n",
    "    \n",
    "    # instance method\n",
    "    def code(self):\n",
    "        print(f\"{self.name} is writing code...\")    \n",
    "    \n",
    "    def code_in_language(self, language):\n",
    "        print(f\"{self.name} is writing code in {language}...\")  \n",
    "    \n",
    "    def information(self):\n",
    "        information = f\"name = {self.name}, age = {self.age}, level = {self.level}\"\n",
    "        return information\n",
    "    \n",
    "#     def __str__(self):\n",
    "#         information = f\"name = {self.name}, age = {self.age}, level = {self.level}\"\n",
    "#         return information\n",
    "        \n",
    "          \n",
    "        \n",
    "# instance        \n",
    "se1 = SoftwareEngineer(\"Max\", 20, \"Junior\", 5000)\n",
    "print(se1.name, se1.age)\n",
    "print(SoftwareEngineer.alias)\n",
    "\n",
    "se2 = SoftwareEngineer(\"Lisa\", 25, \"Senior\", 7000)\n",
    "print(se2.name, se2.age)\n",
    "print(SoftwareEngineer.alias)\n",
    "\n",
    "se1.code()\n",
    "se2.code()\n",
    "se1.code_in_language(\"Python\")\n",
    "se2.code_in_language(\"C++\")\n",
    "\n",
    "print(se1.information())\n",
    "print(\"se1\",se1)\n",
    "print(\"se2\",se2)"
   ]
  },
  {
   "cell_type": "markdown",
   "id": "46801735",
   "metadata": {},
   "source": [
    "__ str __ -> 인스턴스를 print 하는 것만으로도 정보 출력 가능\\\n",
    "클래스.self없는 메서드 (o)\\\n",
    "인스턴스.self없는 메서드(x)"
   ]
  },
  {
   "cell_type": "code",
   "execution_count": 15,
   "id": "77c7e0db",
   "metadata": {},
   "outputs": [
    {
     "name": "stdout",
     "output_type": "stream",
     "text": [
      "Max is writing code...\n",
      "Lisa is writing code...\n",
      "Max is writing code in Python...\n",
      "Lisa is writing code in C++...\n",
      "name = Max, age = 20, level = Junior\n",
      "se1 [print by str] name = Max, age = 20, level = Junior\n",
      "se2 [print by str] name = Lisa, age = 25, level = Senior\n",
      "False\n"
     ]
    },
    {
     "data": {
      "text/plain": [
       "9000"
      ]
     },
     "execution_count": 15,
     "metadata": {},
     "output_type": "execute_result"
    }
   ],
   "source": [
    "se1 = [\"SoftwareEngineer\",\"Max\", 20, \"Junior\", 5000]\n",
    "se2 = [\"SoftwareEngineer\",\"Lisa\", 25, \"Senior\", 7000]\n",
    "d1 = [\"Designer\",\"Philipp\", 25, \"Senior\", 7000]\n",
    "\n",
    "    \n",
    "class SoftwareEngineer:\n",
    "    # class attribute\n",
    "    alias = \"Keyboard Magician\"\n",
    "    \n",
    "    def __init__(self, name, age, level, salary):\n",
    "        # instance attributes\n",
    "        self.name = name\n",
    "        self.age = age\n",
    "        self.level = level\n",
    "        self.salary = salary\n",
    "    \n",
    "    # instance method\n",
    "    def code(self):\n",
    "        print(f\"{self.name} is writing code...\")    \n",
    "    \n",
    "    def code_in_language(self, language):\n",
    "        print(f\"{self.name} is writing code in {language}...\")  \n",
    "    \n",
    "    def information(self):\n",
    "        information = f\"name = {self.name}, age = {self.age}, level = {self.level}\"\n",
    "        return information\n",
    "    \n",
    "    def __str__(self):\n",
    "        information = f\"[print by str] name = {self.name}, age = {self.age}, level = {self.level}\"\n",
    "        return information\n",
    "    \n",
    "    def __eq__(self, other):\n",
    "        return self.name == other.name and self.age == other.age\n",
    "        #return self.name == other.name and self.salary == other.salary -> True\n",
    "    \n",
    "    def entry_salary(age):\n",
    "        if age < 25:\n",
    "            return 5000\n",
    "        if age < 30:\n",
    "            return 7000\n",
    "        return 9000\n",
    "        \n",
    "          \n",
    "        \n",
    "# instance        \n",
    "se1 = SoftwareEngineer(\"Max\", 20, \"Junior\", 5000)\n",
    "se2 = SoftwareEngineer(\"Lisa\", 25, \"Senior\", 7000)\n",
    "se3 = SoftwareEngineer(\"Lisa\", 27, \"Senior\", 7000)\n",
    "\n",
    "\n",
    "se1.code()\n",
    "se2.code()\n",
    "se1.code_in_language(\"Python\")\n",
    "se2.code_in_language(\"C++\")\n",
    "\n",
    "print(se1.information())\n",
    "print(\"se1\",se1)\n",
    "print(\"se2\",se2)\n",
    "print(se2==se3)\n",
    "#se1.entry_salary(35) # error\n",
    "SoftwareEngineer.entry_salary(35)"
   ]
  },
  {
   "cell_type": "markdown",
   "id": "b82edf6a",
   "metadata": {},
   "source": [
    "@staticmethod 를 하면 인스턴스.self없는 메서드 (o)"
   ]
  },
  {
   "cell_type": "code",
   "execution_count": null,
   "id": "f6008d26",
   "metadata": {},
   "outputs": [],
   "source": [
    "se1 = [\"SoftwareEngineer\",\"Max\", 20, \"Junior\", 5000]\n",
    "se2 = [\"SoftwareEngineer\",\"Lisa\", 25, \"Senior\", 7000]\n",
    "d1 = [\"Designer\",\"Philipp\", 25, \"Senior\", 7000]\n",
    "\n",
    "    \n",
    "class SoftwareEngineer:\n",
    "    # class attribute\n",
    "    alias = \"Keyboard Magician\"\n",
    "    \n",
    "    def __init__(self, name, age, level, salary):\n",
    "        # instance attributes\n",
    "        self.name = name\n",
    "        self.age = age\n",
    "        self.level = level\n",
    "        self.salary = salary\n",
    "    \n",
    "    # instance method\n",
    "    def code(self):\n",
    "        print(f\"{self.name} is writing code...\")    \n",
    "    \n",
    "    def code_in_language(self, language):\n",
    "        print(f\"{self.name} is writing code in {language}...\")  \n",
    "    \n",
    "    def information(self):\n",
    "        information = f\"name = {self.name}, age = {self.age}, level = {self.level}\"\n",
    "        return information\n",
    "    \n",
    "    def __str__(self):\n",
    "        information = f\"name = {self.name}, age = {self.age}, level = {self.level}\"\n",
    "        return information\n",
    "    \n",
    "    def __eq__(self, other):\n",
    "        return self.name == other.name and self.age == other.age\n",
    "    \n",
    "    @staticmethod\n",
    "    def entry_salary(age):\n",
    "        if age < 25:\n",
    "            return 5000\n",
    "        if age < 30:\n",
    "            return 7000\n",
    "        return 9000\n",
    "        \n",
    "          \n",
    "        \n",
    "# instance        \n",
    "se1 = SoftwareEngineer(\"Max\", 20, \"Junior\", 5000)\n",
    "se2 = SoftwareEngineer(\"Lisa\", 25, \"Senior\", 7000)\n",
    "se3 = SoftwareEngineer(\"Lisa\", 27, \"Senior\", 7000)\n",
    "\n",
    "se1.code()\n",
    "se2.code()\n",
    "se1.code_in_language(\"Python\")\n",
    "se2.code_in_language(\"C++\")\n",
    "\n",
    "print(se1.information())\n",
    "print(se1)\n",
    "print(se2)\n",
    "print(se2==se3)\n",
    "print(se1.entry_salary(12)) # error\n",
    "print(SoftwareEngineer.entry_salary(35))"
   ]
  },
  {
   "cell_type": "markdown",
   "id": "0d2731d3",
   "metadata": {},
   "source": [
    "inherits, extend, override"
   ]
  },
  {
   "cell_type": "code",
   "execution_count": 6,
   "id": "40e9a484",
   "metadata": {},
   "outputs": [
    {
     "name": "stdout",
     "output_type": "stream",
     "text": [
      "Mx 26\n",
      "Mx is working...\n",
      "junior 6000\n",
      "sm 27\n",
      "sm is working...\n"
     ]
    }
   ],
   "source": [
    "class Employee:\n",
    "    \n",
    "    def __init__(self, name, age, salary):\n",
    "        self.name = name\n",
    "        self.age = age\n",
    "        self.salary = salary\n",
    "        \n",
    "    def work(self):\n",
    "       print(f\"{self.name} is working...\") \n",
    "\n",
    "class SoftEngineer(Employee):\n",
    "    \n",
    "    def __init__(self, name, age, salary, level):\n",
    "        super().__init__(name, age, salary)\n",
    "        self.level = level\n",
    "\n",
    "class Designer(Employee):\n",
    "    pass\n",
    "\n",
    "\n",
    "se = SoftEngineer(\"Mx\", 26, 6000, \"junior\")\n",
    "print(se.name, se.age)\n",
    "se.work()\n",
    "print(se.level, se.salary)\n",
    "\n",
    "d = Designer(\"sm\", 27, 'g')\n",
    "print(d.name, d.age)\n",
    "d.work()"
   ]
  },
  {
   "cell_type": "code",
   "execution_count": null,
   "id": "e7a4278b",
   "metadata": {},
   "outputs": [],
   "source": []
  }
 ],
 "metadata": {
  "kernelspec": {
   "display_name": "Python 3",
   "language": "python",
   "name": "python3"
  },
  "language_info": {
   "codemirror_mode": {
    "name": "ipython",
    "version": 3
   },
   "file_extension": ".py",
   "mimetype": "text/x-python",
   "name": "python",
   "nbconvert_exporter": "python",
   "pygments_lexer": "ipython3",
   "version": "3.8.8"
  }
 },
 "nbformat": 4,
 "nbformat_minor": 5
}
